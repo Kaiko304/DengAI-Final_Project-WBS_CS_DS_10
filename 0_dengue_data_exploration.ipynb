{
 "cells": [
  {
   "cell_type": "code",
   "execution_count": 2,
   "id": "40fb186a-f521-4c14-9784-79df9b05873d",
   "metadata": {
    "tags": []
   },
   "outputs": [],
   "source": [
    "import pandas as pd\n",
    "import seaborn as sns\n",
    "import matplotlib.pyplot\n",
    "import matplotlib.pyplot as plt\n",
    "from sklearn.metrics import mean_absolute_error\n",
    "import numpy as np"
   ]
  },
  {
   "cell_type": "markdown",
   "id": "7799350a-ed6f-4ad1-9b15-4bbf0a6cbb3a",
   "metadata": {
    "tags": []
   },
   "source": [
    "## Data Preparation"
   ]
  },
  {
   "cell_type": "code",
   "execution_count": 3,
   "id": "6f8c16d1-7d3c-416c-8267-f98fb22f2a68",
   "metadata": {
    "tags": []
   },
   "outputs": [],
   "source": [
    "test = pd.read_csv('dengue_features_test.csv')\n",
    "train_features = pd.read_csv('dengue_features_train.csv')\n",
    "train_labels = pd.read_csv('dengue_labels_train.csv')\n",
    "submission_format = pd.read_csv('submission_format.csv')"
   ]
  },
  {
   "cell_type": "code",
   "execution_count": 4,
   "id": "a6841462-d647-4cf1-bd72-115062cdf63b",
   "metadata": {
    "tags": []
   },
   "outputs": [
    {
     "data": {
      "text/html": [
       "<div>\n",
       "<style scoped>\n",
       "    .dataframe tbody tr th:only-of-type {\n",
       "        vertical-align: middle;\n",
       "    }\n",
       "\n",
       "    .dataframe tbody tr th {\n",
       "        vertical-align: top;\n",
       "    }\n",
       "\n",
       "    .dataframe thead th {\n",
       "        text-align: right;\n",
       "    }\n",
       "</style>\n",
       "<table border=\"1\" class=\"dataframe\">\n",
       "  <thead>\n",
       "    <tr style=\"text-align: right;\">\n",
       "      <th></th>\n",
       "      <th>city</th>\n",
       "      <th>year</th>\n",
       "      <th>weekofyear</th>\n",
       "      <th>week_start_date</th>\n",
       "      <th>ndvi_ne</th>\n",
       "      <th>ndvi_nw</th>\n",
       "      <th>ndvi_se</th>\n",
       "      <th>ndvi_sw</th>\n",
       "      <th>precipitation_amt_mm</th>\n",
       "      <th>reanalysis_air_temp_k</th>\n",
       "      <th>...</th>\n",
       "      <th>reanalysis_precip_amt_kg_per_m2</th>\n",
       "      <th>reanalysis_relative_humidity_percent</th>\n",
       "      <th>reanalysis_sat_precip_amt_mm</th>\n",
       "      <th>reanalysis_specific_humidity_g_per_kg</th>\n",
       "      <th>reanalysis_tdtr_k</th>\n",
       "      <th>station_avg_temp_c</th>\n",
       "      <th>station_diur_temp_rng_c</th>\n",
       "      <th>station_max_temp_c</th>\n",
       "      <th>station_min_temp_c</th>\n",
       "      <th>station_precip_mm</th>\n",
       "    </tr>\n",
       "  </thead>\n",
       "  <tbody>\n",
       "    <tr>\n",
       "      <th>0</th>\n",
       "      <td>sj</td>\n",
       "      <td>1990</td>\n",
       "      <td>18</td>\n",
       "      <td>1990-04-30</td>\n",
       "      <td>0.122600</td>\n",
       "      <td>0.103725</td>\n",
       "      <td>0.198483</td>\n",
       "      <td>0.177617</td>\n",
       "      <td>12.42</td>\n",
       "      <td>297.572857</td>\n",
       "      <td>...</td>\n",
       "      <td>32.00</td>\n",
       "      <td>73.365714</td>\n",
       "      <td>12.42</td>\n",
       "      <td>14.012857</td>\n",
       "      <td>2.628571</td>\n",
       "      <td>25.442857</td>\n",
       "      <td>6.900000</td>\n",
       "      <td>29.4</td>\n",
       "      <td>20.0</td>\n",
       "      <td>16.0</td>\n",
       "    </tr>\n",
       "    <tr>\n",
       "      <th>1</th>\n",
       "      <td>sj</td>\n",
       "      <td>1990</td>\n",
       "      <td>19</td>\n",
       "      <td>1990-05-07</td>\n",
       "      <td>0.169900</td>\n",
       "      <td>0.142175</td>\n",
       "      <td>0.162357</td>\n",
       "      <td>0.155486</td>\n",
       "      <td>22.82</td>\n",
       "      <td>298.211429</td>\n",
       "      <td>...</td>\n",
       "      <td>17.94</td>\n",
       "      <td>77.368571</td>\n",
       "      <td>22.82</td>\n",
       "      <td>15.372857</td>\n",
       "      <td>2.371429</td>\n",
       "      <td>26.714286</td>\n",
       "      <td>6.371429</td>\n",
       "      <td>31.7</td>\n",
       "      <td>22.2</td>\n",
       "      <td>8.6</td>\n",
       "    </tr>\n",
       "    <tr>\n",
       "      <th>2</th>\n",
       "      <td>sj</td>\n",
       "      <td>1990</td>\n",
       "      <td>20</td>\n",
       "      <td>1990-05-14</td>\n",
       "      <td>0.032250</td>\n",
       "      <td>0.172967</td>\n",
       "      <td>0.157200</td>\n",
       "      <td>0.170843</td>\n",
       "      <td>34.54</td>\n",
       "      <td>298.781429</td>\n",
       "      <td>...</td>\n",
       "      <td>26.10</td>\n",
       "      <td>82.052857</td>\n",
       "      <td>34.54</td>\n",
       "      <td>16.848571</td>\n",
       "      <td>2.300000</td>\n",
       "      <td>26.714286</td>\n",
       "      <td>6.485714</td>\n",
       "      <td>32.2</td>\n",
       "      <td>22.8</td>\n",
       "      <td>41.4</td>\n",
       "    </tr>\n",
       "    <tr>\n",
       "      <th>3</th>\n",
       "      <td>sj</td>\n",
       "      <td>1990</td>\n",
       "      <td>21</td>\n",
       "      <td>1990-05-21</td>\n",
       "      <td>0.128633</td>\n",
       "      <td>0.245067</td>\n",
       "      <td>0.227557</td>\n",
       "      <td>0.235886</td>\n",
       "      <td>15.36</td>\n",
       "      <td>298.987143</td>\n",
       "      <td>...</td>\n",
       "      <td>13.90</td>\n",
       "      <td>80.337143</td>\n",
       "      <td>15.36</td>\n",
       "      <td>16.672857</td>\n",
       "      <td>2.428571</td>\n",
       "      <td>27.471429</td>\n",
       "      <td>6.771429</td>\n",
       "      <td>33.3</td>\n",
       "      <td>23.3</td>\n",
       "      <td>4.0</td>\n",
       "    </tr>\n",
       "    <tr>\n",
       "      <th>4</th>\n",
       "      <td>sj</td>\n",
       "      <td>1990</td>\n",
       "      <td>22</td>\n",
       "      <td>1990-05-28</td>\n",
       "      <td>0.196200</td>\n",
       "      <td>0.262200</td>\n",
       "      <td>0.251200</td>\n",
       "      <td>0.247340</td>\n",
       "      <td>7.52</td>\n",
       "      <td>299.518571</td>\n",
       "      <td>...</td>\n",
       "      <td>12.20</td>\n",
       "      <td>80.460000</td>\n",
       "      <td>7.52</td>\n",
       "      <td>17.210000</td>\n",
       "      <td>3.014286</td>\n",
       "      <td>28.942857</td>\n",
       "      <td>9.371429</td>\n",
       "      <td>35.0</td>\n",
       "      <td>23.9</td>\n",
       "      <td>5.8</td>\n",
       "    </tr>\n",
       "    <tr>\n",
       "      <th>...</th>\n",
       "      <td>...</td>\n",
       "      <td>...</td>\n",
       "      <td>...</td>\n",
       "      <td>...</td>\n",
       "      <td>...</td>\n",
       "      <td>...</td>\n",
       "      <td>...</td>\n",
       "      <td>...</td>\n",
       "      <td>...</td>\n",
       "      <td>...</td>\n",
       "      <td>...</td>\n",
       "      <td>...</td>\n",
       "      <td>...</td>\n",
       "      <td>...</td>\n",
       "      <td>...</td>\n",
       "      <td>...</td>\n",
       "      <td>...</td>\n",
       "      <td>...</td>\n",
       "      <td>...</td>\n",
       "      <td>...</td>\n",
       "      <td>...</td>\n",
       "    </tr>\n",
       "    <tr>\n",
       "      <th>1451</th>\n",
       "      <td>iq</td>\n",
       "      <td>2010</td>\n",
       "      <td>21</td>\n",
       "      <td>2010-05-28</td>\n",
       "      <td>0.342750</td>\n",
       "      <td>0.318900</td>\n",
       "      <td>0.256343</td>\n",
       "      <td>0.292514</td>\n",
       "      <td>55.30</td>\n",
       "      <td>299.334286</td>\n",
       "      <td>...</td>\n",
       "      <td>45.00</td>\n",
       "      <td>88.765714</td>\n",
       "      <td>55.30</td>\n",
       "      <td>18.485714</td>\n",
       "      <td>9.800000</td>\n",
       "      <td>28.633333</td>\n",
       "      <td>11.933333</td>\n",
       "      <td>35.4</td>\n",
       "      <td>22.4</td>\n",
       "      <td>27.0</td>\n",
       "    </tr>\n",
       "    <tr>\n",
       "      <th>1452</th>\n",
       "      <td>iq</td>\n",
       "      <td>2010</td>\n",
       "      <td>22</td>\n",
       "      <td>2010-06-04</td>\n",
       "      <td>0.160157</td>\n",
       "      <td>0.160371</td>\n",
       "      <td>0.136043</td>\n",
       "      <td>0.225657</td>\n",
       "      <td>86.47</td>\n",
       "      <td>298.330000</td>\n",
       "      <td>...</td>\n",
       "      <td>207.10</td>\n",
       "      <td>91.600000</td>\n",
       "      <td>86.47</td>\n",
       "      <td>18.070000</td>\n",
       "      <td>7.471429</td>\n",
       "      <td>27.433333</td>\n",
       "      <td>10.500000</td>\n",
       "      <td>34.7</td>\n",
       "      <td>21.7</td>\n",
       "      <td>36.6</td>\n",
       "    </tr>\n",
       "    <tr>\n",
       "      <th>1453</th>\n",
       "      <td>iq</td>\n",
       "      <td>2010</td>\n",
       "      <td>23</td>\n",
       "      <td>2010-06-11</td>\n",
       "      <td>0.247057</td>\n",
       "      <td>0.146057</td>\n",
       "      <td>0.250357</td>\n",
       "      <td>0.233714</td>\n",
       "      <td>58.94</td>\n",
       "      <td>296.598571</td>\n",
       "      <td>...</td>\n",
       "      <td>50.60</td>\n",
       "      <td>94.280000</td>\n",
       "      <td>58.94</td>\n",
       "      <td>17.008571</td>\n",
       "      <td>7.500000</td>\n",
       "      <td>24.400000</td>\n",
       "      <td>6.900000</td>\n",
       "      <td>32.2</td>\n",
       "      <td>19.2</td>\n",
       "      <td>7.4</td>\n",
       "    </tr>\n",
       "    <tr>\n",
       "      <th>1454</th>\n",
       "      <td>iq</td>\n",
       "      <td>2010</td>\n",
       "      <td>24</td>\n",
       "      <td>2010-06-18</td>\n",
       "      <td>0.333914</td>\n",
       "      <td>0.245771</td>\n",
       "      <td>0.278886</td>\n",
       "      <td>0.325486</td>\n",
       "      <td>59.67</td>\n",
       "      <td>296.345714</td>\n",
       "      <td>...</td>\n",
       "      <td>62.33</td>\n",
       "      <td>94.660000</td>\n",
       "      <td>59.67</td>\n",
       "      <td>16.815714</td>\n",
       "      <td>7.871429</td>\n",
       "      <td>25.433333</td>\n",
       "      <td>8.733333</td>\n",
       "      <td>31.2</td>\n",
       "      <td>21.0</td>\n",
       "      <td>16.0</td>\n",
       "    </tr>\n",
       "    <tr>\n",
       "      <th>1455</th>\n",
       "      <td>iq</td>\n",
       "      <td>2010</td>\n",
       "      <td>25</td>\n",
       "      <td>2010-06-25</td>\n",
       "      <td>0.298186</td>\n",
       "      <td>0.232971</td>\n",
       "      <td>0.274214</td>\n",
       "      <td>0.315757</td>\n",
       "      <td>63.22</td>\n",
       "      <td>298.097143</td>\n",
       "      <td>...</td>\n",
       "      <td>36.90</td>\n",
       "      <td>89.082857</td>\n",
       "      <td>63.22</td>\n",
       "      <td>17.355714</td>\n",
       "      <td>11.014286</td>\n",
       "      <td>27.475000</td>\n",
       "      <td>9.900000</td>\n",
       "      <td>33.7</td>\n",
       "      <td>22.2</td>\n",
       "      <td>20.4</td>\n",
       "    </tr>\n",
       "  </tbody>\n",
       "</table>\n",
       "<p>1456 rows × 24 columns</p>\n",
       "</div>"
      ],
      "text/plain": [
       "     city  year  weekofyear week_start_date   ndvi_ne   ndvi_nw   ndvi_se  \\\n",
       "0      sj  1990          18      1990-04-30  0.122600  0.103725  0.198483   \n",
       "1      sj  1990          19      1990-05-07  0.169900  0.142175  0.162357   \n",
       "2      sj  1990          20      1990-05-14  0.032250  0.172967  0.157200   \n",
       "3      sj  1990          21      1990-05-21  0.128633  0.245067  0.227557   \n",
       "4      sj  1990          22      1990-05-28  0.196200  0.262200  0.251200   \n",
       "...   ...   ...         ...             ...       ...       ...       ...   \n",
       "1451   iq  2010          21      2010-05-28  0.342750  0.318900  0.256343   \n",
       "1452   iq  2010          22      2010-06-04  0.160157  0.160371  0.136043   \n",
       "1453   iq  2010          23      2010-06-11  0.247057  0.146057  0.250357   \n",
       "1454   iq  2010          24      2010-06-18  0.333914  0.245771  0.278886   \n",
       "1455   iq  2010          25      2010-06-25  0.298186  0.232971  0.274214   \n",
       "\n",
       "       ndvi_sw  precipitation_amt_mm  reanalysis_air_temp_k  ...  \\\n",
       "0     0.177617                 12.42             297.572857  ...   \n",
       "1     0.155486                 22.82             298.211429  ...   \n",
       "2     0.170843                 34.54             298.781429  ...   \n",
       "3     0.235886                 15.36             298.987143  ...   \n",
       "4     0.247340                  7.52             299.518571  ...   \n",
       "...        ...                   ...                    ...  ...   \n",
       "1451  0.292514                 55.30             299.334286  ...   \n",
       "1452  0.225657                 86.47             298.330000  ...   \n",
       "1453  0.233714                 58.94             296.598571  ...   \n",
       "1454  0.325486                 59.67             296.345714  ...   \n",
       "1455  0.315757                 63.22             298.097143  ...   \n",
       "\n",
       "      reanalysis_precip_amt_kg_per_m2  reanalysis_relative_humidity_percent  \\\n",
       "0                               32.00                             73.365714   \n",
       "1                               17.94                             77.368571   \n",
       "2                               26.10                             82.052857   \n",
       "3                               13.90                             80.337143   \n",
       "4                               12.20                             80.460000   \n",
       "...                               ...                                   ...   \n",
       "1451                            45.00                             88.765714   \n",
       "1452                           207.10                             91.600000   \n",
       "1453                            50.60                             94.280000   \n",
       "1454                            62.33                             94.660000   \n",
       "1455                            36.90                             89.082857   \n",
       "\n",
       "      reanalysis_sat_precip_amt_mm  reanalysis_specific_humidity_g_per_kg  \\\n",
       "0                            12.42                              14.012857   \n",
       "1                            22.82                              15.372857   \n",
       "2                            34.54                              16.848571   \n",
       "3                            15.36                              16.672857   \n",
       "4                             7.52                              17.210000   \n",
       "...                            ...                                    ...   \n",
       "1451                         55.30                              18.485714   \n",
       "1452                         86.47                              18.070000   \n",
       "1453                         58.94                              17.008571   \n",
       "1454                         59.67                              16.815714   \n",
       "1455                         63.22                              17.355714   \n",
       "\n",
       "      reanalysis_tdtr_k  station_avg_temp_c  station_diur_temp_rng_c  \\\n",
       "0              2.628571           25.442857                 6.900000   \n",
       "1              2.371429           26.714286                 6.371429   \n",
       "2              2.300000           26.714286                 6.485714   \n",
       "3              2.428571           27.471429                 6.771429   \n",
       "4              3.014286           28.942857                 9.371429   \n",
       "...                 ...                 ...                      ...   \n",
       "1451           9.800000           28.633333                11.933333   \n",
       "1452           7.471429           27.433333                10.500000   \n",
       "1453           7.500000           24.400000                 6.900000   \n",
       "1454           7.871429           25.433333                 8.733333   \n",
       "1455          11.014286           27.475000                 9.900000   \n",
       "\n",
       "      station_max_temp_c  station_min_temp_c  station_precip_mm  \n",
       "0                   29.4                20.0               16.0  \n",
       "1                   31.7                22.2                8.6  \n",
       "2                   32.2                22.8               41.4  \n",
       "3                   33.3                23.3                4.0  \n",
       "4                   35.0                23.9                5.8  \n",
       "...                  ...                 ...                ...  \n",
       "1451                35.4                22.4               27.0  \n",
       "1452                34.7                21.7               36.6  \n",
       "1453                32.2                19.2                7.4  \n",
       "1454                31.2                21.0               16.0  \n",
       "1455                33.7                22.2               20.4  \n",
       "\n",
       "[1456 rows x 24 columns]"
      ]
     },
     "execution_count": 4,
     "metadata": {},
     "output_type": "execute_result"
    }
   ],
   "source": [
    "train_features"
   ]
  },
  {
   "cell_type": "code",
   "execution_count": 5,
   "id": "72bd35b8-bc97-4195-a630-fdbba31ffbad",
   "metadata": {
    "tags": []
   },
   "outputs": [
    {
     "data": {
      "text/html": [
       "<div>\n",
       "<style scoped>\n",
       "    .dataframe tbody tr th:only-of-type {\n",
       "        vertical-align: middle;\n",
       "    }\n",
       "\n",
       "    .dataframe tbody tr th {\n",
       "        vertical-align: top;\n",
       "    }\n",
       "\n",
       "    .dataframe thead th {\n",
       "        text-align: right;\n",
       "    }\n",
       "</style>\n",
       "<table border=\"1\" class=\"dataframe\">\n",
       "  <thead>\n",
       "    <tr style=\"text-align: right;\">\n",
       "      <th></th>\n",
       "      <th>city</th>\n",
       "      <th>year</th>\n",
       "      <th>weekofyear</th>\n",
       "      <th>total_cases</th>\n",
       "    </tr>\n",
       "  </thead>\n",
       "  <tbody>\n",
       "    <tr>\n",
       "      <th>0</th>\n",
       "      <td>sj</td>\n",
       "      <td>1990</td>\n",
       "      <td>18</td>\n",
       "      <td>4</td>\n",
       "    </tr>\n",
       "    <tr>\n",
       "      <th>1</th>\n",
       "      <td>sj</td>\n",
       "      <td>1990</td>\n",
       "      <td>19</td>\n",
       "      <td>5</td>\n",
       "    </tr>\n",
       "    <tr>\n",
       "      <th>2</th>\n",
       "      <td>sj</td>\n",
       "      <td>1990</td>\n",
       "      <td>20</td>\n",
       "      <td>4</td>\n",
       "    </tr>\n",
       "    <tr>\n",
       "      <th>3</th>\n",
       "      <td>sj</td>\n",
       "      <td>1990</td>\n",
       "      <td>21</td>\n",
       "      <td>3</td>\n",
       "    </tr>\n",
       "    <tr>\n",
       "      <th>4</th>\n",
       "      <td>sj</td>\n",
       "      <td>1990</td>\n",
       "      <td>22</td>\n",
       "      <td>6</td>\n",
       "    </tr>\n",
       "    <tr>\n",
       "      <th>...</th>\n",
       "      <td>...</td>\n",
       "      <td>...</td>\n",
       "      <td>...</td>\n",
       "      <td>...</td>\n",
       "    </tr>\n",
       "    <tr>\n",
       "      <th>1451</th>\n",
       "      <td>iq</td>\n",
       "      <td>2010</td>\n",
       "      <td>21</td>\n",
       "      <td>5</td>\n",
       "    </tr>\n",
       "    <tr>\n",
       "      <th>1452</th>\n",
       "      <td>iq</td>\n",
       "      <td>2010</td>\n",
       "      <td>22</td>\n",
       "      <td>8</td>\n",
       "    </tr>\n",
       "    <tr>\n",
       "      <th>1453</th>\n",
       "      <td>iq</td>\n",
       "      <td>2010</td>\n",
       "      <td>23</td>\n",
       "      <td>1</td>\n",
       "    </tr>\n",
       "    <tr>\n",
       "      <th>1454</th>\n",
       "      <td>iq</td>\n",
       "      <td>2010</td>\n",
       "      <td>24</td>\n",
       "      <td>1</td>\n",
       "    </tr>\n",
       "    <tr>\n",
       "      <th>1455</th>\n",
       "      <td>iq</td>\n",
       "      <td>2010</td>\n",
       "      <td>25</td>\n",
       "      <td>4</td>\n",
       "    </tr>\n",
       "  </tbody>\n",
       "</table>\n",
       "<p>1456 rows × 4 columns</p>\n",
       "</div>"
      ],
      "text/plain": [
       "     city  year  weekofyear  total_cases\n",
       "0      sj  1990          18            4\n",
       "1      sj  1990          19            5\n",
       "2      sj  1990          20            4\n",
       "3      sj  1990          21            3\n",
       "4      sj  1990          22            6\n",
       "...   ...   ...         ...          ...\n",
       "1451   iq  2010          21            5\n",
       "1452   iq  2010          22            8\n",
       "1453   iq  2010          23            1\n",
       "1454   iq  2010          24            1\n",
       "1455   iq  2010          25            4\n",
       "\n",
       "[1456 rows x 4 columns]"
      ]
     },
     "execution_count": 5,
     "metadata": {},
     "output_type": "execute_result"
    }
   ],
   "source": [
    "train_labels"
   ]
  },
  {
   "cell_type": "code",
   "execution_count": 6,
   "id": "1f4e8ca4-0d57-4cc0-bae0-7dc6bfd9adc7",
   "metadata": {
    "tags": []
   },
   "outputs": [
    {
     "name": "stdout",
     "output_type": "stream",
     "text": [
      "<class 'pandas.core.frame.DataFrame'>\n",
      "RangeIndex: 1456 entries, 0 to 1455\n",
      "Data columns (total 25 columns):\n",
      " #   Column                                 Non-Null Count  Dtype  \n",
      "---  ------                                 --------------  -----  \n",
      " 0   city                                   1456 non-null   object \n",
      " 1   year                                   1456 non-null   int64  \n",
      " 2   weekofyear                             1456 non-null   int64  \n",
      " 3   week_start_date                        1456 non-null   object \n",
      " 4   ndvi_ne                                1262 non-null   float64\n",
      " 5   ndvi_nw                                1404 non-null   float64\n",
      " 6   ndvi_se                                1434 non-null   float64\n",
      " 7   ndvi_sw                                1434 non-null   float64\n",
      " 8   precipitation_amt_mm                   1443 non-null   float64\n",
      " 9   reanalysis_air_temp_k                  1446 non-null   float64\n",
      " 10  reanalysis_avg_temp_k                  1446 non-null   float64\n",
      " 11  reanalysis_dew_point_temp_k            1446 non-null   float64\n",
      " 12  reanalysis_max_air_temp_k              1446 non-null   float64\n",
      " 13  reanalysis_min_air_temp_k              1446 non-null   float64\n",
      " 14  reanalysis_precip_amt_kg_per_m2        1446 non-null   float64\n",
      " 15  reanalysis_relative_humidity_percent   1446 non-null   float64\n",
      " 16  reanalysis_sat_precip_amt_mm           1443 non-null   float64\n",
      " 17  reanalysis_specific_humidity_g_per_kg  1446 non-null   float64\n",
      " 18  reanalysis_tdtr_k                      1446 non-null   float64\n",
      " 19  station_avg_temp_c                     1413 non-null   float64\n",
      " 20  station_diur_temp_rng_c                1413 non-null   float64\n",
      " 21  station_max_temp_c                     1436 non-null   float64\n",
      " 22  station_min_temp_c                     1442 non-null   float64\n",
      " 23  station_precip_mm                      1434 non-null   float64\n",
      " 24  total_cases                            1456 non-null   int64  \n",
      "dtypes: float64(20), int64(3), object(2)\n",
      "memory usage: 284.5+ KB\n"
     ]
    }
   ],
   "source": [
    "train_df = train_features\n",
    "train_df['total_cases'] = train_labels.total_cases\n",
    "train_df.info()"
   ]
  },
  {
   "cell_type": "markdown",
   "id": "c9dccab8-4637-4236-8117-85760cfef9f8",
   "metadata": {
    "tags": []
   },
   "source": [
    "### 1. Set time to index"
   ]
  },
  {
   "cell_type": "markdown",
   "id": "bf483432-66e7-4639-86e4-c6d25e05438f",
   "metadata": {
    "tags": []
   },
   "source": [
    "No discrepancies found. 'week_start_date' aligns with 'year' and 'weekofyear'."
   ]
  },
  {
   "cell_type": "code",
   "execution_count": 7,
   "id": "994dcf07-ef18-465f-ba49-3bdf75b1ff08",
   "metadata": {
    "tags": []
   },
   "outputs": [],
   "source": [
    "# Set 'week_start_date' as the index of the DataFrame\n",
    "train_df['week_start_date'] = pd.to_datetime(train_df['week_start_date'])\n",
    "train_df.set_index(['week_start_date'], inplace=True)"
   ]
  },
  {
   "cell_type": "code",
   "execution_count": 8,
   "id": "b6779a80-b1c8-476d-90ce-1daa0ef4b68f",
   "metadata": {
    "tags": []
   },
   "outputs": [],
   "source": [
    "# Leave weeks for seasonality\n",
    "train_df = train_df.drop('year', axis=1)"
   ]
  },
  {
   "cell_type": "code",
   "execution_count": 9,
   "id": "b22929c0-d384-4f4e-ad88-fcae036f2199",
   "metadata": {
    "tags": []
   },
   "outputs": [
    {
     "data": {
      "text/plain": [
       "DatetimeIndex(['1990-04-30', '1990-05-07', '1990-05-14', '1990-05-21',\n",
       "               '1990-05-28', '1990-06-04', '1990-06-11', '1990-06-18',\n",
       "               '1990-06-25', '1990-07-02',\n",
       "               ...\n",
       "               '2010-04-23', '2010-04-30', '2010-05-07', '2010-05-14',\n",
       "               '2010-05-21', '2010-05-28', '2010-06-04', '2010-06-11',\n",
       "               '2010-06-18', '2010-06-25'],\n",
       "              dtype='datetime64[ns]', name='week_start_date', length=1456, freq=None)"
      ]
     },
     "execution_count": 9,
     "metadata": {},
     "output_type": "execute_result"
    }
   ],
   "source": [
    "train_df.index"
   ]
  },
  {
   "cell_type": "markdown",
   "id": "3fa04052-3702-4630-94f6-813c6e88c76f",
   "metadata": {
    "tags": []
   },
   "source": [
    "### 2. Normalized difference vegetation index (NDVI)\n",
    "\n",
    "Value Range: NDVI values range from -1 to +1.\n",
    "Negative Values: Usually indicate water.\n",
    "Values Close to Zero: Represent barren areas of rock, sand, or snow.\n",
    "Low Positive Values (0.1 - 0.3): Typically indicate shrubbery and grasslands.\n",
    "High Positive Values (0.6 - 0.9): Suggest dense vegetation such as forests."
   ]
  },
  {
   "cell_type": "markdown",
   "id": "397d3ee5-1932-4213-9bc6-7c4310a0991d",
   "metadata": {},
   "source": [
    "#### Fill NaN with the most recent non-missing value encountered"
   ]
  },
  {
   "cell_type": "code",
   "execution_count": 10,
   "id": "50f4a0e5-a0f8-4db0-b13d-26df80ad18a6",
   "metadata": {
    "tags": []
   },
   "outputs": [],
   "source": [
    "train_df['ndvi_nw'].fillna(method='ffill', inplace=True)"
   ]
  },
  {
   "cell_type": "code",
   "execution_count": 11,
   "id": "febcb09d-0965-4ae9-bbf2-ad05bb3c9734",
   "metadata": {
    "tags": []
   },
   "outputs": [],
   "source": [
    "train_df['ndvi_ne'].fillna(method='ffill', inplace=True)"
   ]
  },
  {
   "cell_type": "code",
   "execution_count": 12,
   "id": "c6c8a96d-4996-4d30-9260-0c755d439ca8",
   "metadata": {
    "tags": []
   },
   "outputs": [],
   "source": [
    "train_df['ndvi_se'].fillna(method='ffill', inplace=True)"
   ]
  },
  {
   "cell_type": "code",
   "execution_count": 13,
   "id": "84d1fbd2-07a9-4427-a7ea-73e443fdeadc",
   "metadata": {
    "tags": []
   },
   "outputs": [],
   "source": [
    "train_df['ndvi_sw'].fillna(method='ffill', inplace=True)"
   ]
  },
  {
   "cell_type": "markdown",
   "id": "b8125002-2c24-4a49-bf3b-aea57bd6bd5d",
   "metadata": {},
   "source": [
    "#### Calculate ndvi-mean"
   ]
  },
  {
   "cell_type": "code",
   "execution_count": 14,
   "id": "ee6293c1-1a66-4a9a-ae5f-08e54d6a027e",
   "metadata": {
    "tags": []
   },
   "outputs": [],
   "source": [
    "train_df['ndvi'] = train_df[['ndvi_nw','ndvi_ne', 'ndvi_se', 'ndvi_sw']].mean(axis=1)\n",
    "train_df = train_df.drop(['ndvi_nw','ndvi_ne', 'ndvi_se', 'ndvi_sw'], axis=1)"
   ]
  },
  {
   "cell_type": "markdown",
   "id": "4533a154-a342-4b23-8c3a-8f599cce6051",
   "metadata": {
    "tags": []
   },
   "source": [
    "### 3. Precipitation"
   ]
  },
  {
   "cell_type": "markdown",
   "id": "3b026eed-98a7-4fef-b4e2-75cf562e4b0e",
   "metadata": {},
   "source": [
    "1. NOAA's GHCN Daily Climate Data (station_precip_mm)\n",
    "Source: Ground-based weather stations.\n",
    "Measurement: This provides the total precipitation measured in millimeters at a specific weather station location.\n",
    "Pros:\n",
    "Direct measurements from the ground provide accurate local data.\n",
    "Useful for understanding precipitation at a specific point.\n",
    "Cons:\n",
    "Limited by the geographical coverage of weather stations.\n",
    "Might not represent wider regional climatic conditions if stations are sparse.\n",
    "2. NOAA's NCEP Climate Forecast System Reanalysis (reanalysis_precip_amt_kg_per_m2)\n",
    "Source: Reanalysis data combining model data with observations.\n",
    "Measurement: Total precipitation in kilograms per square meter, usually converted from the original model units.\n",
    "Pros:\n",
    "Provides a continuous spatial representation, useful for areas without weather stations.\n",
    "Good for large-scale climatic trends and patterns.\n",
    "Cons:\n",
    "Less accurate at local scales compared to direct measurements.\n",
    "Dependent on the quality of the model and assimilated data.\n",
    "3. PERSIANN Satellite Precipitation Measurements (precipitation_amt_mm)\n",
    "Source: Satellite observations.\n",
    "Measurement: Precipitation amount in millimeters, estimated from satellite data.\n",
    "Pros:\n",
    "Wide coverage, especially beneficial for remote or oceanic regions.\n",
    "Useful for studying large-scale weather systems and spatial precipitation patterns.\n",
    "Cons:\n",
    "Satellite estimations can be less accurate than ground measurements, especially for localized events.\n",
    "May have latency issues compared to real-time ground data."
   ]
  },
  {
   "cell_type": "code",
   "execution_count": 15,
   "id": "06392984-9706-4076-adeb-fed6a0c69946",
   "metadata": {
    "tags": []
   },
   "outputs": [
    {
     "data": {
      "text/html": [
       "<div>\n",
       "<style scoped>\n",
       "    .dataframe tbody tr th:only-of-type {\n",
       "        vertical-align: middle;\n",
       "    }\n",
       "\n",
       "    .dataframe tbody tr th {\n",
       "        vertical-align: top;\n",
       "    }\n",
       "\n",
       "    .dataframe thead th {\n",
       "        text-align: right;\n",
       "    }\n",
       "</style>\n",
       "<table border=\"1\" class=\"dataframe\">\n",
       "  <thead>\n",
       "    <tr style=\"text-align: right;\">\n",
       "      <th></th>\n",
       "      <th>precipitation_amt_mm</th>\n",
       "      <th>reanalysis_precip_amt_kg_per_m2</th>\n",
       "      <th>reanalysis_sat_precip_amt_mm</th>\n",
       "      <th>station_precip_mm</th>\n",
       "    </tr>\n",
       "    <tr>\n",
       "      <th>week_start_date</th>\n",
       "      <th></th>\n",
       "      <th></th>\n",
       "      <th></th>\n",
       "      <th></th>\n",
       "    </tr>\n",
       "  </thead>\n",
       "  <tbody>\n",
       "    <tr>\n",
       "      <th>1990-04-30</th>\n",
       "      <td>12.42</td>\n",
       "      <td>32.00</td>\n",
       "      <td>12.42</td>\n",
       "      <td>16.0</td>\n",
       "    </tr>\n",
       "    <tr>\n",
       "      <th>1990-05-07</th>\n",
       "      <td>22.82</td>\n",
       "      <td>17.94</td>\n",
       "      <td>22.82</td>\n",
       "      <td>8.6</td>\n",
       "    </tr>\n",
       "    <tr>\n",
       "      <th>1990-05-14</th>\n",
       "      <td>34.54</td>\n",
       "      <td>26.10</td>\n",
       "      <td>34.54</td>\n",
       "      <td>41.4</td>\n",
       "    </tr>\n",
       "    <tr>\n",
       "      <th>1990-05-21</th>\n",
       "      <td>15.36</td>\n",
       "      <td>13.90</td>\n",
       "      <td>15.36</td>\n",
       "      <td>4.0</td>\n",
       "    </tr>\n",
       "    <tr>\n",
       "      <th>1990-05-28</th>\n",
       "      <td>7.52</td>\n",
       "      <td>12.20</td>\n",
       "      <td>7.52</td>\n",
       "      <td>5.8</td>\n",
       "    </tr>\n",
       "    <tr>\n",
       "      <th>...</th>\n",
       "      <td>...</td>\n",
       "      <td>...</td>\n",
       "      <td>...</td>\n",
       "      <td>...</td>\n",
       "    </tr>\n",
       "    <tr>\n",
       "      <th>2010-05-28</th>\n",
       "      <td>55.30</td>\n",
       "      <td>45.00</td>\n",
       "      <td>55.30</td>\n",
       "      <td>27.0</td>\n",
       "    </tr>\n",
       "    <tr>\n",
       "      <th>2010-06-04</th>\n",
       "      <td>86.47</td>\n",
       "      <td>207.10</td>\n",
       "      <td>86.47</td>\n",
       "      <td>36.6</td>\n",
       "    </tr>\n",
       "    <tr>\n",
       "      <th>2010-06-11</th>\n",
       "      <td>58.94</td>\n",
       "      <td>50.60</td>\n",
       "      <td>58.94</td>\n",
       "      <td>7.4</td>\n",
       "    </tr>\n",
       "    <tr>\n",
       "      <th>2010-06-18</th>\n",
       "      <td>59.67</td>\n",
       "      <td>62.33</td>\n",
       "      <td>59.67</td>\n",
       "      <td>16.0</td>\n",
       "    </tr>\n",
       "    <tr>\n",
       "      <th>2010-06-25</th>\n",
       "      <td>63.22</td>\n",
       "      <td>36.90</td>\n",
       "      <td>63.22</td>\n",
       "      <td>20.4</td>\n",
       "    </tr>\n",
       "  </tbody>\n",
       "</table>\n",
       "<p>1456 rows × 4 columns</p>\n",
       "</div>"
      ],
      "text/plain": [
       "                 precipitation_amt_mm  reanalysis_precip_amt_kg_per_m2  \\\n",
       "week_start_date                                                          \n",
       "1990-04-30                      12.42                            32.00   \n",
       "1990-05-07                      22.82                            17.94   \n",
       "1990-05-14                      34.54                            26.10   \n",
       "1990-05-21                      15.36                            13.90   \n",
       "1990-05-28                       7.52                            12.20   \n",
       "...                               ...                              ...   \n",
       "2010-05-28                      55.30                            45.00   \n",
       "2010-06-04                      86.47                           207.10   \n",
       "2010-06-11                      58.94                            50.60   \n",
       "2010-06-18                      59.67                            62.33   \n",
       "2010-06-25                      63.22                            36.90   \n",
       "\n",
       "                 reanalysis_sat_precip_amt_mm  station_precip_mm  \n",
       "week_start_date                                                   \n",
       "1990-04-30                              12.42               16.0  \n",
       "1990-05-07                              22.82                8.6  \n",
       "1990-05-14                              34.54               41.4  \n",
       "1990-05-21                              15.36                4.0  \n",
       "1990-05-28                               7.52                5.8  \n",
       "...                                       ...                ...  \n",
       "2010-05-28                              55.30               27.0  \n",
       "2010-06-04                              86.47               36.6  \n",
       "2010-06-11                              58.94                7.4  \n",
       "2010-06-18                              59.67               16.0  \n",
       "2010-06-25                              63.22               20.4  \n",
       "\n",
       "[1456 rows x 4 columns]"
      ]
     },
     "execution_count": 15,
     "metadata": {},
     "output_type": "execute_result"
    }
   ],
   "source": [
    "train_df[['precipitation_amt_mm', 'reanalysis_precip_amt_kg_per_m2', 'reanalysis_sat_precip_amt_mm', 'station_precip_mm']]"
   ]
  },
  {
   "cell_type": "code",
   "execution_count": 16,
   "id": "6153e99f-600c-4afc-a932-b1b22dc33979",
   "metadata": {
    "tags": []
   },
   "outputs": [],
   "source": [
    "#(train_df['precipitation_amt_mm'] - train_df['reanalysis_sat_precip_amt_mm']).sum()"
   ]
  },
  {
   "cell_type": "markdown",
   "id": "834ff299-abac-4a0e-9cb9-48e6b6f3333f",
   "metadata": {
    "tags": []
   },
   "source": [
    "As 'reanalysis_sat_precip_amt_mm' has the same data I will drop it. I will also drop station_precip_mm as it is less accurate and reanalysis_precip_amt_kg_per_m2 as it has outliers"
   ]
  },
  {
   "cell_type": "markdown",
   "id": "5a9ff4c5-718d-4f2b-bbde-eb93ee4a8ce8",
   "metadata": {},
   "source": [
    "#### Fill NaN with the most recent non-missing value encountered"
   ]
  },
  {
   "cell_type": "code",
   "execution_count": 17,
   "id": "30702fe8-8ece-4fe3-9ef9-47f77d60ee27",
   "metadata": {
    "tags": []
   },
   "outputs": [],
   "source": [
    "train_df['precipitation_amt_mm'].fillna(method='ffill', inplace=True)\n",
    "train_df['reanalysis_precip_amt_kg_per_m2'].fillna(method='ffill', inplace=True)"
   ]
  },
  {
   "cell_type": "markdown",
   "id": "a7bac895-fd6c-40cf-a8ba-524af33e56ce",
   "metadata": {},
   "source": [
    "#### Check for correlation between precipitation_amt_mm and reanalysis_precip_amt_kg_per_m2 and total_cases"
   ]
  },
  {
   "cell_type": "code",
   "execution_count": 18,
   "id": "e6118174-4af7-4843-9fcd-e2226fee84fa",
   "metadata": {
    "tags": []
   },
   "outputs": [
    {
     "name": "stdout",
     "output_type": "stream",
     "text": [
      "                                 precipitation_amt_mm  \\\n",
      "precipitation_amt_mm                         1.000000   \n",
      "reanalysis_precip_amt_kg_per_m2              0.481093   \n",
      "total_cases                                 -0.042712   \n",
      "\n",
      "                                 reanalysis_precip_amt_kg_per_m2  total_cases  \n",
      "precipitation_amt_mm                                    0.481093    -0.042712  \n",
      "reanalysis_precip_amt_kg_per_m2                         1.000000    -0.011553  \n",
      "total_cases                                            -0.011553     1.000000  \n"
     ]
    }
   ],
   "source": [
    "# Assuming df is your DataFrame\n",
    "# Calculating the correlation matrix\n",
    "correlation_matrix = train_df[['precipitation_amt_mm', 'reanalysis_precip_amt_kg_per_m2', 'total_cases']].corr()\n",
    "\n",
    "# Print the correlation matrix\n",
    "print(correlation_matrix)"
   ]
  },
  {
   "cell_type": "markdown",
   "id": "1726d6e7-bb45-4a59-9f23-c2c4e7aa0cc6",
   "metadata": {},
   "source": [
    "There does not seem to be a correlation between the two precipitation variables and also the correlation with the number of Dengue cases is very low."
   ]
  },
  {
   "cell_type": "code",
   "execution_count": 19,
   "id": "6264c267-8f75-4706-bc03-784c9dbeecb1",
   "metadata": {
    "tags": []
   },
   "outputs": [],
   "source": [
    "train_df = train_df.drop(['reanalysis_sat_precip_amt_mm','station_precip_mm'], axis=1)"
   ]
  },
  {
   "cell_type": "markdown",
   "id": "ac023b0f-a513-46fe-bebb-8e425f270dab",
   "metadata": {
    "tags": []
   },
   "source": [
    "### 4. Humidity"
   ]
  },
  {
   "cell_type": "markdown",
   "id": "90257ea9-1f9b-4fb6-b32a-fa2f6a6062b8",
   "metadata": {},
   "source": [
    "Relative Humidity (reanalysis_relative_humidity_percent)\n",
    "Definition: Relative humidity is the ratio of the current absolute humidity to the highest possible absolute humidity (which depends on the current air temperature). It is expressed as a percentage.\n",
    "\n",
    "Specific Humidity (reanalysis_specific_humidity_g_per_kg)\n",
    "Definition: Specific humidity is a ratio of the mass of water vapor to the total mass of the air parcel. It is expressed in grams of water vapor per kilogram of air (g/kg).\n",
    "Interpretation: Specific humidity is not dependent on the temperature of the air. It is a measure of the actual amount of moisture in the air.\n"
   ]
  },
  {
   "cell_type": "code",
   "execution_count": 44,
   "id": "e229d0e3-5473-4fc7-9600-e5e43b83842c",
   "metadata": {
    "tags": []
   },
   "outputs": [
    {
     "data": {
      "text/html": [
       "<div>\n",
       "<style scoped>\n",
       "    .dataframe tbody tr th:only-of-type {\n",
       "        vertical-align: middle;\n",
       "    }\n",
       "\n",
       "    .dataframe tbody tr th {\n",
       "        vertical-align: top;\n",
       "    }\n",
       "\n",
       "    .dataframe thead th {\n",
       "        text-align: right;\n",
       "    }\n",
       "</style>\n",
       "<table border=\"1\" class=\"dataframe\">\n",
       "  <thead>\n",
       "    <tr style=\"text-align: right;\">\n",
       "      <th></th>\n",
       "      <th>reanalysis_relative_humidity_percent</th>\n",
       "      <th>reanalysis_specific_humidity_g_per_kg</th>\n",
       "    </tr>\n",
       "    <tr>\n",
       "      <th>week_start_date</th>\n",
       "      <th></th>\n",
       "      <th></th>\n",
       "    </tr>\n",
       "  </thead>\n",
       "  <tbody>\n",
       "    <tr>\n",
       "      <th>1990-04-30</th>\n",
       "      <td>73.365714</td>\n",
       "      <td>14.012857</td>\n",
       "    </tr>\n",
       "    <tr>\n",
       "      <th>1990-05-07</th>\n",
       "      <td>77.368571</td>\n",
       "      <td>15.372857</td>\n",
       "    </tr>\n",
       "    <tr>\n",
       "      <th>1990-05-14</th>\n",
       "      <td>82.052857</td>\n",
       "      <td>16.848571</td>\n",
       "    </tr>\n",
       "    <tr>\n",
       "      <th>1990-05-21</th>\n",
       "      <td>80.337143</td>\n",
       "      <td>16.672857</td>\n",
       "    </tr>\n",
       "    <tr>\n",
       "      <th>1990-05-28</th>\n",
       "      <td>80.460000</td>\n",
       "      <td>17.210000</td>\n",
       "    </tr>\n",
       "  </tbody>\n",
       "</table>\n",
       "</div>"
      ],
      "text/plain": [
       "                 reanalysis_relative_humidity_percent  \\\n",
       "week_start_date                                         \n",
       "1990-04-30                                  73.365714   \n",
       "1990-05-07                                  77.368571   \n",
       "1990-05-14                                  82.052857   \n",
       "1990-05-21                                  80.337143   \n",
       "1990-05-28                                  80.460000   \n",
       "\n",
       "                 reanalysis_specific_humidity_g_per_kg  \n",
       "week_start_date                                         \n",
       "1990-04-30                                   14.012857  \n",
       "1990-05-07                                   15.372857  \n",
       "1990-05-14                                   16.848571  \n",
       "1990-05-21                                   16.672857  \n",
       "1990-05-28                                   17.210000  "
      ]
     },
     "execution_count": 44,
     "metadata": {},
     "output_type": "execute_result"
    }
   ],
   "source": [
    "train_df[['reanalysis_relative_humidity_percent', 'reanalysis_specific_humidity_g_per_kg']].head(5)"
   ]
  },
  {
   "cell_type": "code",
   "execution_count": 22,
   "id": "45c1b38d-1870-4daf-adee-ba3acc1d5c0e",
   "metadata": {
    "tags": []
   },
   "outputs": [
    {
     "name": "stdout",
     "output_type": "stream",
     "text": [
      "                                       reanalysis_relative_humidity_percent  \\\n",
      "reanalysis_relative_humidity_percent                               1.000000   \n",
      "reanalysis_specific_humidity_g_per_kg                              0.577813   \n",
      "total_cases                                                       -0.132452   \n",
      "\n",
      "                                       reanalysis_specific_humidity_g_per_kg  \\\n",
      "reanalysis_relative_humidity_percent                                0.577813   \n",
      "reanalysis_specific_humidity_g_per_kg                               1.000000   \n",
      "total_cases                                                         0.129861   \n",
      "\n",
      "                                       total_cases  \n",
      "reanalysis_relative_humidity_percent     -0.132452  \n",
      "reanalysis_specific_humidity_g_per_kg     0.129861  \n",
      "total_cases                               1.000000  \n"
     ]
    }
   ],
   "source": [
    "# Calculating the correlation matrix\n",
    "correlation_matrix = train_df[['reanalysis_relative_humidity_percent', 'reanalysis_specific_humidity_g_per_kg', 'total_cases']].corr()\n",
    "\n",
    "# Print the correlation matrix\n",
    "print(correlation_matrix)"
   ]
  },
  {
   "cell_type": "markdown",
   "id": "b843afae-0d21-4f67-b266-84cbc5de185b",
   "metadata": {
    "tags": []
   },
   "source": [
    "### 5. Temperature"
   ]
  },
  {
   "cell_type": "code",
   "execution_count": 23,
   "id": "39794e07-2acf-4240-b213-46903fdc489b",
   "metadata": {
    "tags": []
   },
   "outputs": [
    {
     "name": "stdout",
     "output_type": "stream",
     "text": [
      "                                       reanalysis_relative_humidity_percent  \\\n",
      "reanalysis_relative_humidity_percent                               1.000000   \n",
      "reanalysis_specific_humidity_g_per_kg                              0.577813   \n",
      "total_cases                                                       -0.132452   \n",
      "\n",
      "                                       reanalysis_specific_humidity_g_per_kg  \\\n",
      "reanalysis_relative_humidity_percent                                0.577813   \n",
      "reanalysis_specific_humidity_g_per_kg                               1.000000   \n",
      "total_cases                                                         0.129861   \n",
      "\n",
      "                                       total_cases  \n",
      "reanalysis_relative_humidity_percent     -0.132452  \n",
      "reanalysis_specific_humidity_g_per_kg     0.129861  \n",
      "total_cases                               1.000000  \n"
     ]
    }
   ],
   "source": [
    "# Calculating the correlation matrix\n",
    "correlation_matrix = train_df[['reanalysis_relative_humidity_percent', 'reanalysis_specific_humidity_g_per_kg', 'total_cases']].corr()\n",
    "\n",
    "# Print the correlation matrix\n",
    "print(correlation_matrix)"
   ]
  },
  {
   "cell_type": "code",
   "execution_count": 24,
   "id": "6174ace0-aff9-42d7-b982-5647bc02050d",
   "metadata": {
    "tags": []
   },
   "outputs": [],
   "source": [
    "train_df = train_df.drop(['reanalysis_max_air_temp_k','reanalysis_min_air_temp_k', 'reanalysis_air_temp_k', 'reanalysis_avg_temp_k', 'reanalysis_tdtr_k'], axis=1)"
   ]
  },
  {
   "cell_type": "code",
   "execution_count": 25,
   "id": "5a518c3d-bda8-47c5-853a-c418cdb52666",
   "metadata": {},
   "outputs": [],
   "source": [
    "# As reanalysis_dew_point_temp_k is directly correlated with reanalysis_specific_humidity_g_per_kg\n",
    "train_df = train_df.drop('reanalysis_dew_point_temp_k', axis=1)"
   ]
  },
  {
   "cell_type": "code",
   "execution_count": 26,
   "id": "a7aa72c7-d7bf-41b4-b0e7-3c09c5130bcd",
   "metadata": {
    "tags": []
   },
   "outputs": [],
   "source": [
    "train_df_temp = train_df.drop('city', axis=1)"
   ]
  },
  {
   "cell_type": "code",
   "execution_count": 27,
   "id": "be1acac0-4426-4a19-872a-45708b4f0109",
   "metadata": {
    "tags": []
   },
   "outputs": [
    {
     "data": {
      "image/png": "[encoded data removed]",
      "text/plain": [
       "<Figure size 1200x1000 with 2 Axes>"
      ]
     },
     "metadata": {},
     "output_type": "display_data"
    }
   ],
   "source": [
    "# Calculating the correlation matrix\n",
    "correlation_matrix = train_df_temp.corr()\n",
    "\n",
    "# Visualizing the correlation matrix using a heatmap\n",
    "plt.figure(figsize=(12, 10))  # You can adjust the size of the figure here\n",
    "sns.heatmap(correlation_matrix, annot=True, fmt=\".2f\", cmap='coolwarm')\n",
    "plt.title('Correlation Matrix Heatmap')\n",
    "plt.show()"
   ]
  },
  {
   "cell_type": "code",
   "execution_count": 45,
   "id": "036c9a69-ca70-4a30-99ad-79ece7458c8f",
   "metadata": {
    "tags": []
   },
   "outputs": [
    {
     "data": {
      "text/html": [
       "<div>\n",
       "<style scoped>\n",
       "    .dataframe tbody tr th:only-of-type {\n",
       "        vertical-align: middle;\n",
       "    }\n",
       "\n",
       "    .dataframe tbody tr th {\n",
       "        vertical-align: top;\n",
       "    }\n",
       "\n",
       "    .dataframe thead th {\n",
       "        text-align: right;\n",
       "    }\n",
       "</style>\n",
       "<table border=\"1\" class=\"dataframe\">\n",
       "  <thead>\n",
       "    <tr style=\"text-align: right;\">\n",
       "      <th></th>\n",
       "      <th>Variable_1</th>\n",
       "      <th>Variable_2</th>\n",
       "      <th>Correlation</th>\n",
       "      <th>Abs_Correlation</th>\n",
       "    </tr>\n",
       "  </thead>\n",
       "  <tbody>\n",
       "    <tr>\n",
       "      <th>82</th>\n",
       "      <td>station_max_temp_c</td>\n",
       "      <td>station_avg_temp_c</td>\n",
       "      <td>0.764576</td>\n",
       "      <td>0.764576</td>\n",
       "    </tr>\n",
       "    <tr>\n",
       "      <th>49</th>\n",
       "      <td>reanalysis_specific_humidity_g_per_kg</td>\n",
       "      <td>station_avg_temp_c</td>\n",
       "      <td>0.747809</td>\n",
       "      <td>0.747809</td>\n",
       "    </tr>\n",
       "    <tr>\n",
       "      <th>83</th>\n",
       "      <td>station_max_temp_c</td>\n",
       "      <td>station_diur_temp_rng_c</td>\n",
       "      <td>0.715217</td>\n",
       "      <td>0.715217</td>\n",
       "    </tr>\n",
       "    <tr>\n",
       "      <th>116</th>\n",
       "      <td>ndvi</td>\n",
       "      <td>station_diur_temp_rng_c</td>\n",
       "      <td>0.681035</td>\n",
       "      <td>0.681035</td>\n",
       "    </tr>\n",
       "    <tr>\n",
       "      <th>93</th>\n",
       "      <td>station_min_temp_c</td>\n",
       "      <td>station_avg_temp_c</td>\n",
       "      <td>0.633252</td>\n",
       "      <td>0.633252</td>\n",
       "    </tr>\n",
       "    <tr>\n",
       "      <th>52</th>\n",
       "      <td>reanalysis_specific_humidity_g_per_kg</td>\n",
       "      <td>station_min_temp_c</td>\n",
       "      <td>0.623155</td>\n",
       "      <td>0.623155</td>\n",
       "    </tr>\n",
       "    <tr>\n",
       "      <th>35</th>\n",
       "      <td>reanalysis_relative_humidity_percent</td>\n",
       "      <td>reanalysis_precip_amt_kg_per_m2</td>\n",
       "      <td>0.593928</td>\n",
       "      <td>0.593928</td>\n",
       "    </tr>\n",
       "    <tr>\n",
       "      <th>37</th>\n",
       "      <td>reanalysis_relative_humidity_percent</td>\n",
       "      <td>reanalysis_specific_humidity_g_per_kg</td>\n",
       "      <td>0.577813</td>\n",
       "      <td>0.577813</td>\n",
       "    </tr>\n",
       "    <tr>\n",
       "      <th>81</th>\n",
       "      <td>station_max_temp_c</td>\n",
       "      <td>reanalysis_specific_humidity_g_per_kg</td>\n",
       "      <td>0.519376</td>\n",
       "      <td>0.519376</td>\n",
       "    </tr>\n",
       "    <tr>\n",
       "      <th>14</th>\n",
       "      <td>precipitation_amt_mm</td>\n",
       "      <td>reanalysis_relative_humidity_percent</td>\n",
       "      <td>0.500248</td>\n",
       "      <td>0.500248</td>\n",
       "    </tr>\n",
       "  </tbody>\n",
       "</table>\n",
       "</div>"
      ],
      "text/plain": [
       "                                Variable_1  \\\n",
       "82                      station_max_temp_c   \n",
       "49   reanalysis_specific_humidity_g_per_kg   \n",
       "83                      station_max_temp_c   \n",
       "116                                   ndvi   \n",
       "93                      station_min_temp_c   \n",
       "52   reanalysis_specific_humidity_g_per_kg   \n",
       "35    reanalysis_relative_humidity_percent   \n",
       "37    reanalysis_relative_humidity_percent   \n",
       "81                      station_max_temp_c   \n",
       "14                    precipitation_amt_mm   \n",
       "\n",
       "                                Variable_2  Correlation  Abs_Correlation  \n",
       "82                      station_avg_temp_c     0.764576         0.764576  \n",
       "49                      station_avg_temp_c     0.747809         0.747809  \n",
       "83                 station_diur_temp_rng_c     0.715217         0.715217  \n",
       "116                station_diur_temp_rng_c     0.681035         0.681035  \n",
       "93                      station_avg_temp_c     0.633252         0.633252  \n",
       "52                      station_min_temp_c     0.623155         0.623155  \n",
       "35         reanalysis_precip_amt_kg_per_m2     0.593928         0.593928  \n",
       "37   reanalysis_specific_humidity_g_per_kg     0.577813         0.577813  \n",
       "81   reanalysis_specific_humidity_g_per_kg     0.519376         0.519376  \n",
       "14    reanalysis_relative_humidity_percent     0.500248         0.500248  "
      ]
     },
     "execution_count": 45,
     "metadata": {},
     "output_type": "execute_result"
    }
   ],
   "source": [
    "# Flatten the correlation matrix to a Series, reset the index to turn it into a DataFrame\n",
    "corr_series = correlation_matrix.unstack().reset_index()\n",
    "\n",
    "# Rename the columns for clarity\n",
    "corr_series.columns = ['Variable_1', 'Variable_2', 'Correlation']\n",
    "\n",
    "# Filter out self-correlations and duplicates\n",
    "corr_series_filtered = corr_series[corr_series['Variable_1'] != corr_series['Variable_2']].copy()\n",
    "\n",
    "# Create an absolute value column for sorting\n",
    "corr_series_filtered['Abs_Correlation'] = corr_series_filtered['Correlation'].abs()\n",
    "\n",
    "# Sort by absolute correlation to get the highest correlations\n",
    "corr_series_filtered = corr_series_filtered.sort_values(by='Abs_Correlation', ascending=False)\n",
    "\n",
    "# Drop duplicates, keeping the first occurrence (highest correlation)\n",
    "corr_series_filtered.drop_duplicates(subset=['Abs_Correlation'], keep='first', inplace=True)\n",
    "\n",
    "corr_series_filtered.head(10)"
   ]
  },
  {
   "cell_type": "markdown",
   "id": "40c74dd1-d949-49aa-a1b6-e7b74889e0b1",
   "metadata": {},
   "source": [
    "There are no missing values in consequent days (see code for check_up below). If there would have been gaps over several days the fillna method would not have been useful"
   ]
  },
  {
   "cell_type": "code",
   "execution_count": 30,
   "id": "83187d63-8812-454c-80f4-db203d5cd0e9",
   "metadata": {
    "tags": []
   },
   "outputs": [],
   "source": [
    "# Filter the DataFrame for rows where 'station_avg_temp_c' is NaN\n",
    "#nan_temp_df = train_df[train_df['station_avg_temp_c'].isna()]\n",
    "\n",
    "# Sort the filtered DataFrame by 'week_start_date'\n",
    "#sorted_nan_temp_df = nan_temp_df.sort_values(by='week_start_date')\n",
    "\n",
    "# Display the sorted DataFrame\n",
    "#print(sorted_nan_temp_df)"
   ]
  },
  {
   "cell_type": "code",
   "execution_count": 31,
   "id": "ad62cdde-2102-4883-b65a-1e5ccb4daec1",
   "metadata": {
    "tags": []
   },
   "outputs": [],
   "source": [
    "train_df.fillna(method='ffill', inplace=True)"
   ]
  },
  {
   "cell_type": "markdown",
   "id": "255fe18a-9493-431c-bf30-d37826731dec",
   "metadata": {
    "tags": []
   },
   "source": [
    "### 6. Check for outliers and wrong values"
   ]
  },
  {
   "cell_type": "code",
   "execution_count": 32,
   "id": "d020dba7-9d80-4bf0-ab75-737fd2980e80",
   "metadata": {
    "tags": []
   },
   "outputs": [
    {
     "data": {
      "text/plain": [
       "count    1456.000000\n",
       "mean       45.686937\n",
       "std        43.779318\n",
       "min         0.000000\n",
       "25%         9.655000\n",
       "50%        38.235000\n",
       "75%        70.227500\n",
       "max       390.600000\n",
       "Name: precipitation_amt_mm, dtype: float64"
      ]
     },
     "execution_count": 32,
     "metadata": {},
     "output_type": "execute_result"
    }
   ],
   "source": [
    "train_df['precipitation_amt_mm'].describe()"
   ]
  },
  {
   "cell_type": "code",
   "execution_count": 33,
   "id": "97d300e2-031b-4ae5-adbb-6a95e6efdb69",
   "metadata": {
    "tags": []
   },
   "outputs": [
    {
     "data": {
      "text/plain": [
       "<Axes: >"
      ]
     },
     "execution_count": 33,
     "metadata": {},
     "output_type": "execute_result"
    },
    {
     "data": {
      "image/png": "[encoded data removed]",
      "text/plain": [
       "<Figure size 640x480 with 1 Axes>"
      ]
     },
     "metadata": {},
     "output_type": "display_data"
    }
   ],
   "source": [
    "train_df['precipitation_amt_mm'].hist()"
   ]
  },
  {
   "cell_type": "code",
   "execution_count": 34,
   "id": "09238c5f-a466-4e4c-899b-9b091b7a0206",
   "metadata": {
    "tags": []
   },
   "outputs": [
    {
     "data": {
      "text/plain": [
       "count    1456.000000\n",
       "mean       40.111635\n",
       "std        43.329174\n",
       "min         0.000000\n",
       "25%        13.085000\n",
       "50%        27.245000\n",
       "75%        52.200000\n",
       "max       570.500000\n",
       "Name: reanalysis_precip_amt_kg_per_m2, dtype: float64"
      ]
     },
     "execution_count": 34,
     "metadata": {},
     "output_type": "execute_result"
    }
   ],
   "source": [
    "train_df['reanalysis_precip_amt_kg_per_m2'].describe()"
   ]
  },
  {
   "cell_type": "code",
   "execution_count": 36,
   "id": "998820a8-db89-461f-ba54-effb070d3571",
   "metadata": {
    "tags": []
   },
   "outputs": [
    {
     "data": {
      "text/plain": [
       "count    1456.000000\n",
       "mean       32.443338\n",
       "std         1.960769\n",
       "min        26.700000\n",
       "25%        31.100000\n",
       "50%        32.800000\n",
       "75%        33.900000\n",
       "max        42.200000\n",
       "Name: station_max_temp_c, dtype: float64"
      ]
     },
     "execution_count": 36,
     "metadata": {},
     "output_type": "execute_result"
    }
   ],
   "source": [
    "train_df['station_max_temp_c'].describe()"
   ]
  },
  {
   "cell_type": "code",
   "execution_count": 37,
   "id": "6c463092-dcff-4afa-b9d9-492a67462f65",
   "metadata": {
    "tags": []
   },
   "outputs": [
    {
     "data": {
      "text/plain": [
       "count    1456.000000\n",
       "mean       22.099863\n",
       "std         1.569113\n",
       "min        14.700000\n",
       "25%        21.100000\n",
       "50%        22.200000\n",
       "75%        23.300000\n",
       "max        25.600000\n",
       "Name: station_min_temp_c, dtype: float64"
      ]
     },
     "execution_count": 37,
     "metadata": {},
     "output_type": "execute_result"
    }
   ],
   "source": [
    "train_df['station_min_temp_c'].describe()"
   ]
  },
  {
   "cell_type": "code",
   "execution_count": 38,
   "id": "abcf8aeb-537d-424e-a292-4352f10cfde7",
   "metadata": {
    "tags": []
   },
   "outputs": [
    {
     "data": {
      "text/plain": [
       "count    1456.000000\n",
       "mean       16.745565\n",
       "std         1.542276\n",
       "min        11.715714\n",
       "25%        15.560000\n",
       "50%        17.087143\n",
       "75%        17.977500\n",
       "max        20.461429\n",
       "Name: reanalysis_specific_humidity_g_per_kg, dtype: float64"
      ]
     },
     "execution_count": 38,
     "metadata": {},
     "output_type": "execute_result"
    }
   ],
   "source": [
    "train_df['reanalysis_specific_humidity_g_per_kg'].describe()"
   ]
  },
  {
   "cell_type": "code",
   "execution_count": 39,
   "id": "0afc210c-e672-4603-a910-1cc40a25237f",
   "metadata": {
    "tags": []
   },
   "outputs": [
    {
     "data": {
      "text/plain": [
       "count    1456.000000\n",
       "mean        0.165983\n",
       "std         0.091297\n",
       "min        -0.092565\n",
       "25%         0.099066\n",
       "50%         0.146623\n",
       "75%         0.226426\n",
       "max         0.503982\n",
       "Name: ndvi, dtype: float64"
      ]
     },
     "execution_count": 39,
     "metadata": {},
     "output_type": "execute_result"
    }
   ],
   "source": [
    "train_df['ndvi'].describe()"
   ]
  },
  {
   "cell_type": "markdown",
   "id": "5bf4a8d1-9355-496a-a5b6-694d634ed309",
   "metadata": {},
   "source": [
    "\n",
    "We decided to not take out any outliers (e.g. precipitation) as they might be causing virus outbreaks"
   ]
  },
  {
   "cell_type": "markdown",
   "id": "36ef7109-0d2b-4bc8-8ef6-46f452cbaec2",
   "metadata": {
    "tags": []
   },
   "source": [
    "## Setting up a Preprocessing Function"
   ]
  },
  {
   "cell_type": "markdown",
   "id": "a99a70d3-833e-4ee0-89b6-99b19fc41258",
   "metadata": {},
   "source": [
    "The following preprocessing function was just a starting point. We later on used other methods to fill missing gaps (interpolation) and also always tried different feature combinations and checking significance depending on the time frame set and the model used"
   ]
  },
  {
   "cell_type": "code",
   "execution_count": 40,
   "id": "77b4aa24-c6c3-4086-9e64-f2559b2d8f6d",
   "metadata": {
    "tags": []
   },
   "outputs": [],
   "source": [
    "def preprocess_data(data_path, labels_path=None):\n",
    "    \n",
    "    # load data and set index to city, year, weekofyear\n",
    "    df = pd.read_csv(data_path)\n",
    "    \n",
    "    # add labels to dataframe\n",
    "    if labels_path:\n",
    "        labels = pd.read_csv(labels_path)\n",
    "        df = df.merge(labels['total_cases'], left_index=True, right_index=True)\n",
    "    \n",
    "    # Convert 'week_start_date' to datetime format\n",
    "    df['week_start_date'] = pd.to_datetime(df['week_start_date'])\n",
    "    \n",
    "    # Set 'week_start_date' as the index of the DataFrame\n",
    "    df.set_index('week_start_date', inplace=True)\n",
    "    df = df.drop('year', axis=1)\n",
    "    \n",
    "    # add new features\n",
    "    df['ndvi'] = df[['ndvi_nw','ndvi_ne', 'ndvi_se', 'ndvi_sw']].mean(axis=1)\n",
    "    \n",
    "    # drop features with low significance/multiple existing features ordered by topic\n",
    "    df = df.drop(['ndvi_nw','ndvi_ne', 'ndvi_se', 'ndvi_sw'], axis=1)\n",
    "    df = df.drop(['reanalysis_precip_amt_kg_per_m2', 'reanalysis_sat_precip_amt_mm', 'station_precip_mm'], axis=1)\n",
    "    df = df.drop(['reanalysis_max_air_temp_k','reanalysis_min_air_temp_k', 'reanalysis_air_temp_k', 'reanalysis_avg_temp_k', 'reanalysis_tdtr_k'], axis=1)\n",
    "    df = df.drop(['reanalysis_relative_humidity_percent'], axis=1)\n",
    "    \n",
    "    # fill missing values\n",
    "    df.fillna(method='ffill', inplace=True)\n",
    "    \n",
    "    # separate san juan and iquitos\n",
    "    sj = df[df['city'] == 'sj'].drop('city', axis=1)\n",
    "    iq = df[df['city'] == 'iq'].drop('city', axis=1)\n",
    "    \n",
    "    return sj, iq"
   ]
  },
  {
   "cell_type": "code",
   "execution_count": 41,
   "id": "74f4d911-4cd6-4c08-afb6-e5db7af72ec6",
   "metadata": {
    "tags": []
   },
   "outputs": [],
   "source": [
    "sj_train, iq_train = preprocess_data(data_path='dengue_features_train.csv', labels_path=\"dengue_labels_train.csv\")"
   ]
  },
  {
   "cell_type": "code",
   "execution_count": 42,
   "id": "7938bd6e-828b-4359-8847-7606e97b4d21",
   "metadata": {
    "tags": []
   },
   "outputs": [
    {
     "name": "stdout",
     "output_type": "stream",
     "text": [
      "<class 'pandas.core.frame.DataFrame'>\n",
      "DatetimeIndex: 936 entries, 1990-04-30 to 2008-04-22\n",
      "Data columns (total 10 columns):\n",
      " #   Column                                 Non-Null Count  Dtype  \n",
      "---  ------                                 --------------  -----  \n",
      " 0   weekofyear                             936 non-null    int64  \n",
      " 1   precipitation_amt_mm                   936 non-null    float64\n",
      " 2   reanalysis_dew_point_temp_k            936 non-null    float64\n",
      " 3   reanalysis_specific_humidity_g_per_kg  936 non-null    float64\n",
      " 4   station_avg_temp_c                     936 non-null    float64\n",
      " 5   station_diur_temp_rng_c                936 non-null    float64\n",
      " 6   station_max_temp_c                     936 non-null    float64\n",
      " 7   station_min_temp_c                     936 non-null    float64\n",
      " 8   total_cases                            936 non-null    int64  \n",
      " 9   ndvi                                   936 non-null    float64\n",
      "dtypes: float64(8), int64(2)\n",
      "memory usage: 80.4 KB\n"
     ]
    }
   ],
   "source": [
    "sj_train.info()"
   ]
  },
  {
   "cell_type": "markdown",
   "id": "6072f467-3ea4-4317-b0ba-b17888a11226",
   "metadata": {},
   "source": [
    "##### \n",
    "\n",
    "We used the following plot to check if there are significant changes in the features before an outbreak and if yes, how many weeks before the outbreak. However, we could not see any clear pattern\n"
   ]
  },
  {
   "cell_type": "code",
   "execution_count": 43,
   "id": "83ad3d89-91e9-4be4-92f8-32342ce06431",
   "metadata": {
    "tags": []
   },
   "outputs": [
    {
     "data": {
      "text/plain": [
       "Text(0, 0.5, 'Avg Temp (C)')"
      ]
     },
     "execution_count": 43,
     "metadata": {},
     "output_type": "execute_result"
    },
    {
     "data": {
      "image/png": "[encoded data removed]",
      "text/plain": [
       "<Figure size 1200x600 with 2 Axes>"
      ]
     },
     "metadata": {},
     "output_type": "display_data"
    }
   ],
   "source": [
    "# Define the date range you want to include in your plot\n",
    "start_year = 1993\n",
    "end_year = 1995\n",
    "\n",
    "# Filter the data for the desired years\n",
    "filtered_df = sj_train[(sj_train.index.year >= start_year) & (sj_train.index.year <= end_year)]\n",
    "\n",
    "# Create a figure\n",
    "plt.figure(figsize=(12, 6))\n",
    "\n",
    "# Plot the filtered \"total_cases\" data over time\n",
    "plt.plot(filtered_df.index, filtered_df['total_cases'], label=\"Total Cases\", color='blue')\n",
    "plt.xlabel(\"Date\")\n",
    "plt.ylabel(\"Total Cases\")\n",
    "plt.title(f\"Dengue Total Cases Over Time ({start_year}-{end_year})\")\n",
    "plt.legend()\n",
    "\n",
    "# Adding temperature data over time\n",
    "plt.twinx()  # Create a second y-axis on the right for temperature data\n",
    "plt.plot(filtered_df.index, filtered_df['station_avg_temp_c'], label=\"Avg Temp\", color='red')\n",
    "plt.ylabel(\"Avg Temp (C)\")"
   ]
  },
  {
   "cell_type": "code",
   "execution_count": null,
   "id": "ab821846-f69e-4351-b64b-8dda67a3d86f",
   "metadata": {},
   "outputs": [],
   "source": []
  },
  {
   "cell_type": "code",
   "execution_count": null,
   "id": "4d7299f3-2c25-4ab1-93a6-37f6cda6769c",
   "metadata": {},
   "outputs": [],
   "source": []
  }
 ],
 "metadata": {
  "kernelspec": {
   "display_name": "Python 3 (ipykernel)",
   "language": "python",
   "name": "python3"
  },
  "language_info": {
   "codemirror_mode": {
    "name": "ipython",
    "version": 3
   },
   "file_extension": ".py",
   "mimetype": "text/x-python",
   "name": "python",
   "nbconvert_exporter": "python",
   "pygments_lexer": "ipython3",
   "version": "3.11.5"
  }
 },
 "nbformat": 4,
 "nbformat_minor": 5
}
